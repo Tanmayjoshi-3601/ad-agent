{
 "cells": [
  {
   "cell_type": "code",
   "execution_count": null,
   "id": "9dd80163-fc28-49ca-aa50-175924fe6398",
   "metadata": {},
   "outputs": [],
   "source": [
    "from dataclasses import dataclass\n",
    "\"\"\"\n",
    "Each arm is one option you can allocate budget to \n",
    "(e.g., a segment_key or later segment|variant_id).\n",
    "\n",
    "We model an arm’s conversion-per-click rate as an unknown probability 𝜃. We keep a belief about \n",
    "𝜃 using a Beta(α, β) distribution, because Beta is conjugate \n",
    "to Bernoulli/Binomial: after observing successes/failures, \n",
    "the posterior stays Beta and you just add counts.\n",
    "That’s why the code stores alpha and beta\n",
    "\"\"\"\n",
    "\n",
    "@dataclass\n",
    "class Arm:\n",
    "    key: str\n",
    "    alpha: float = 1.0 # success\n",
    "    beta: float = 1.0 # failures\n"
   ]
  }
 ],
 "metadata": {
  "kernelspec": {
   "display_name": "Python 3 (ipykernel)",
   "language": "python",
   "name": "python3"
  },
  "language_info": {
   "codemirror_mode": {
    "name": "ipython",
    "version": 3
   },
   "file_extension": ".py",
   "mimetype": "text/x-python",
   "name": "python",
   "nbconvert_exporter": "python",
   "pygments_lexer": "ipython3",
   "version": "3.12.4"
  }
 },
 "nbformat": 4,
 "nbformat_minor": 5
}
